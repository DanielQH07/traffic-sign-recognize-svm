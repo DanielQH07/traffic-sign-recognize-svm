{
  "cells": [
    {
      "cell_type": "code",
      "execution_count": 2,
      "metadata": {
        "id": "DbQb-q44BgQN"
      },
      "outputs": [],
      "source": [
        "import time\n",
        "import os\n",
        "import cv2\n",
        "import numpy as np\n",
        "import pandas as pd\n",
        "import matplotlib.pyplot as plt\n",
        "import xml.etree.ElementTree as ET\n",
        "import pickle\n",
        "from skimage.transform import resize\n",
        "from skimage import feature\n",
        "from sklearn.svm import SVC\n",
        "from sklearn.preprocessing import LabelEncoder\n",
        "from sklearn.preprocessing import StandardScaler\n",
        "from sklearn.model_selection import train_test_split\n",
        "from sklearn.metrics import accuracy_score"
      ]
    },
    {
      "cell_type": "code",
      "execution_count": 11,
      "metadata": {
        "id": "YmZiiAUhGuWV"
      },
      "outputs": [],
      "source": [
        "image_lst = []\n",
        "label_lst = []\n",
        "folder_path = \"Sign\"\n",
        "items = os.listdir(folder_path)\n",
        "folders = [item for item in items if os.path.isdir(os.path.join(folder_path, item))]\n",
        "for folder in folders:\n",
        "    sign_path = os.path.join(folder_path,folder)\n",
        "    sign_items = os.listdir(sign_path)\n",
        "    # Filter out only the files (not directories)\n",
        "    img_dir = [item for item in sign_items if os.path.isfile(os.path.join(sign_path, item))]\n",
        "    for img_path in img_dir:\n",
        "        img_p = os.path.join(sign_path,img_path)\n",
        "        img = cv2.imread(img_p)\n",
        "        image_lst.append(img)\n",
        "        label_lst.append(folder)\n"
      ]
    },
    {
      "cell_type": "code",
      "execution_count": 12,
      "metadata": {
        "colab": {
          "base_uri": "https://localhost:8080/"
        },
        "id": "8ueqsvVoKGVx",
        "outputId": "5c134fc6-c301-4d4f-a3ae-964c5a9e5251"
      },
      "outputs": [
        {
          "name": "stdout",
          "output_type": "stream",
          "text": [
            "Number of objects:  653\n",
            "class names:  ['priority', 'hight_way', 'cross_way', 'roundabout', 'forbit', 'parking', 'stop', 'traight', 'exit_hight_way']\n"
          ]
        }
      ],
      "source": [
        "print('Number of objects: ',len(image_lst))\n",
        "print('class names: ',list(set(label_lst)))"
      ]
    },
    {
      "cell_type": "code",
      "execution_count": 3,
      "metadata": {
        "id": "Ob4pcbubNMLf"
      },
      "outputs": [],
      "source": [
        "def preprocess_img(img):\n",
        "  if len(img.shape)>2:\n",
        "    img = cv2.cvtColor(img,cv2.COLOR_BGR2GRAY)\n",
        "  img = img.astype(np.float32)\n",
        "\n",
        "  resized_img = resize(\n",
        "      img,\n",
        "      output_shape=(64,64),\n",
        "      anti_aliasing=True\n",
        "  )\n",
        "  hog_feature = feature.hog(\n",
        "      resized_img,\n",
        "      orientations=9,\n",
        "      pixels_per_cell=(8,8),\n",
        "      cells_per_block=(2,2),\n",
        "      block_norm=\"L2\",\n",
        "      feature_vector=True\n",
        "  )\n",
        "  return hog_feature"
      ]
    },
    {
      "cell_type": "code",
      "execution_count": 14,
      "metadata": {
        "colab": {
          "base_uri": "https://localhost:8080/"
        },
        "id": "jjLF565ZN-zv",
        "outputId": "0796430b-ee3d-4092-f046-3ded620fe944"
      },
      "outputs": [
        {
          "name": "stdout",
          "output_type": "stream",
          "text": [
            "X shape: \n",
            "(653, 1764)\n"
          ]
        }
      ],
      "source": [
        "img_feature_lst = []\n",
        "for img in image_lst:\n",
        "  hog_feature = preprocess_img(img)\n",
        "  img_feature_lst.append(hog_feature)\n",
        "img_features = np.array(img_feature_lst)\n",
        "print(\"X shape: \")\n",
        "print(img_features.shape)"
      ]
    },
    {
      "cell_type": "code",
      "execution_count": 15,
      "metadata": {
        "id": "5qtWrpzzOrY5"
      },
      "outputs": [],
      "source": [
        "label_encoder = LabelEncoder()\n",
        "encoded_labels = label_encoder.fit_transform(label_lst)\n"
      ]
    },
    {
      "cell_type": "code",
      "execution_count": 16,
      "metadata": {
        "colab": {
          "base_uri": "https://localhost:8080/"
        },
        "id": "9KIFcTJYPB3K",
        "outputId": "4118b697-19f3-4336-ab62-c3521abfcd88"
      },
      "outputs": [
        {
          "name": "stdout",
          "output_type": "stream",
          "text": [
            "['cross_way' 'exit_hight_way' 'forbit' 'hight_way' 'parking' 'priority'\n",
            " 'roundabout' 'stop' 'traight']\n"
          ]
        }
      ],
      "source": [
        "print(label_encoder.classes_)"
      ]
    },
    {
      "cell_type": "code",
      "execution_count": 17,
      "metadata": {
        "id": "ZCbyiTbTPJWt"
      },
      "outputs": [],
      "source": [
        "random_state = 0\n",
        "test_size = 0.3\n",
        "is_shuffle = True\n",
        "X_train, X_val, y_train, y_val = train_test_split(\n",
        "    img_features,encoded_labels,\n",
        "    test_size = test_size,\n",
        "    random_state = random_state,\n",
        "    shuffle = is_shuffle\n",
        ")"
      ]
    },
    {
      "cell_type": "code",
      "execution_count": 18,
      "metadata": {
        "colab": {
          "base_uri": "https://localhost:8080/"
        },
        "id": "dXV0j0guT65b",
        "outputId": "c5ce9ab2-2424-4696-f963-de9b63e09909"
      },
      "outputs": [
        {
          "data": {
            "text/plain": [
              "array([[0.01199425, 0.00367688, 0.00120082, ..., 0.01889051, 0.00339817,\n",
              "        0.00722683],\n",
              "       [0.13502465, 0.12259669, 0.08772346, ..., 0.00919772, 0.00413064,\n",
              "        0.00759265],\n",
              "       [0.03895593, 0.00091717, 0.00049443, ..., 0.00156643, 0.00060468,\n",
              "        0.00116945],\n",
              "       ...,\n",
              "       [0.08035994, 0.01908555, 0.01794297, ..., 0.06035848, 0.06166307,\n",
              "        0.04117857],\n",
              "       [0.05432067, 0.        , 0.00120186, ..., 0.00559256, 0.        ,\n",
              "        0.        ],\n",
              "       [0.09307671, 0.02135066, 0.02425244, ..., 0.01244815, 0.00110813,\n",
              "        0.00080112]], dtype=float32)"
            ]
          },
          "execution_count": 18,
          "metadata": {},
          "output_type": "execute_result"
        }
      ],
      "source": [
        "X_train"
      ]
    },
    {
      "cell_type": "code",
      "execution_count": 19,
      "metadata": {
        "id": "75jHwmZZPqHk"
      },
      "outputs": [],
      "source": [
        "scaler = StandardScaler()\n",
        "X_train = scaler.fit_transform(X_train)\n",
        "X_val = scaler.transform(X_val)"
      ]
    },
    {
      "cell_type": "code",
      "execution_count": 20,
      "metadata": {
        "colab": {
          "base_uri": "https://localhost:8080/"
        },
        "id": "GQXPKLVCP067",
        "outputId": "dd9d08af-6877-4f89-d76a-0e3fef86cebb"
      },
      "outputs": [
        {
          "name": "stdout",
          "output_type": "stream",
          "text": [
            "Accurancy:  0.7295918367346939\n"
          ]
        }
      ],
      "source": [
        "clf = SVC(\n",
        "    kernel = 'rbf',\n",
        "    random_state = random_state,\n",
        "    probability=True,\n",
        "    C=0.5\n",
        ")\n",
        "clf.fit(X_train,y_train)\n",
        "y_pred = clf.predict(X_val)\n",
        "score = accuracy_score(y_pred, y_val)\n",
        "print(\"Accurancy: \",score)\n"
      ]
    },
    {
      "cell_type": "code",
      "execution_count": 21,
      "metadata": {},
      "outputs": [
        {
          "name": "stdout",
          "output_type": "stream",
          "text": [
            "44\n",
            "76\n",
            "92\n"
          ]
        }
      ],
      "source": [
        "y = list(clf.predict(X_train)) + list(clf.predict(X_val))\n",
        "print(y.count(0))\n",
        "print(y.count(1))\n",
        "print(y.count(2))"
      ]
    },
    {
      "cell_type": "code",
      "execution_count": 22,
      "metadata": {
        "colab": {
          "base_uri": "https://localhost:8080/"
        },
        "id": "AD_r2tw3Qa0q",
        "outputId": "5e2113f8-6a8f-4cc1-86a5-23e74ee0df72"
      },
      "outputs": [
        {
          "name": "stdout",
          "output_type": "stream",
          "text": [
            "Normal prediction: 2\n",
            "Probability: ['0.0018784531', '0.0779648657', '0.7393937737', '0.0634866046', '0.0065852374', '0.0016150551', '0.0732804840', '0.0072192909', '0.0285762355']\n",
            "Class with highest: forbit\n"
          ]
        }
      ],
      "source": [
        "input_img = cv2.imread(\"image_2.png\")\n",
        "normalized_img = preprocess_img(input_img)\n",
        "y_pred = clf.predict([normalized_img])[0]\n",
        "print(f'Normal prediction: {y_pred}')\n",
        "y_pred_prob = clf.predict_proba([normalized_img])\n",
        "prediction = np.argmax(y_pred_prob)\n",
        "y_pred_prob = [f'{p:.10f}' for p in y_pred_prob[0]]\n",
        "print(f'Probability: {y_pred_prob}')\n",
        "print(f'Class with highest: {label_encoder.classes_[prediction]}') "
      ]
    },
    {
      "cell_type": "code",
      "execution_count": null,
      "metadata": {},
      "outputs": [],
      "source": [
        "with open(\"model2.pkl\", \"wb\") as f:\n",
        "    pickle.dump(clf, f)\n"
      ]
    },
    {
      "cell_type": "code",
      "execution_count": 5,
      "metadata": {},
      "outputs": [
        {
          "data": {
            "text/plain": [
              "numpy.ndarray"
            ]
          },
          "execution_count": 5,
          "metadata": {},
          "output_type": "execute_result"
        }
      ],
      "source": [
        "input_img = cv2.imread(\"123.png\")\n",
        "normalized_img = preprocess_img(input_img)\n",
        "type(normalized_img)"
      ]
    }
  ],
  "metadata": {
    "colab": {
      "provenance": []
    },
    "kernelspec": {
      "display_name": "Python 3",
      "name": "python3"
    },
    "language_info": {
      "codemirror_mode": {
        "name": "ipython",
        "version": 3
      },
      "file_extension": ".py",
      "mimetype": "text/x-python",
      "name": "python",
      "nbconvert_exporter": "python",
      "pygments_lexer": "ipython3",
      "version": "3.10.9"
    }
  },
  "nbformat": 4,
  "nbformat_minor": 0
}
